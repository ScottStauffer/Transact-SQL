{
    "metadata": {
        "kernelspec": {
            "name": "SQL",
            "display_name": "SQL",
            "language": "sql"
        },
        "language_info": {
            "name": "sql",
            "version": ""
        }
    },
    "nbformat_minor": 2,
    "nbformat": 4,
    "cells": [
        {
            "cell_type": "markdown",
            "source": [
                "# Testing Differential Restore WITH STANDBY\n",
                "\n",
                "I don't think I've actually done a differential restote with standby before!  So, instead of assume that it will work, and to document my success...\n",
                "\n",
                "Goal: Restore successive Differential backups on a database over time while leaving the database available for read-only queries.\n",
                "\n",
                "PRE-REQUISITE:  You need a local C:\\\\Temp folder or you need to change the scripts to read and write backup files to another location.\n",
                "\n",
                "for [T-SQL command options on Restore, click here.](https://docs.microsoft.com/en-us/sql/t-sql/statements/restore-statements-transact-sql?view=sql-server-ver15)"
            ],
            "metadata": {
                "azdata_cell_guid": "b7e28736-d5e5-4446-8ade-4d6e63477b40"
            }
        },
        {
            "cell_type": "markdown",
            "source": [
                "## **We are going to first create a database...**"
            ],
            "metadata": {
                "azdata_cell_guid": "7834cbd3-9bae-458f-8109-ca704b8af880"
            }
        },
        {
            "cell_type": "code",
            "source": [
                "IF EXISTS (SELECT * FROM sys.databases WHERE name = 'DiffRestoreWithStandbyTest')\r\n",
                "  DROP DATABASE [DiffRestoreWithStandbyTest]"
            ],
            "metadata": {
                "azdata_cell_guid": "ebeb1db5-e789-4ace-b18e-e6c3397e09b2",
                "tags": []
            },
            "outputs": [
                {
                    "output_type": "display_data",
                    "data": {
                        "text/html": "Commands completed successfully."
                    },
                    "metadata": {}
                },
                {
                    "output_type": "display_data",
                    "data": {
                        "text/html": "Total execution time: 00:00:02.049"
                    },
                    "metadata": {}
                }
            ],
            "execution_count": 39
        },
        {
            "cell_type": "code",
            "source": [
                "CREATE DATABASE [DiffRestoreWithStandbyTest]\r\n",
                "GO\r\n",
                "\r\n",
                "ALTER DATABASE [DiffRestoreWithStandbyTest] SET RECOVERY FULL\r\n",
                "GO"
            ],
            "metadata": {
                "azdata_cell_guid": "47ebb33c-045b-482b-8852-7684b970c9e0"
            },
            "outputs": [
                {
                    "output_type": "display_data",
                    "data": {
                        "text/html": "Commands completed successfully."
                    },
                    "metadata": {}
                },
                {
                    "output_type": "display_data",
                    "data": {
                        "text/html": "Commands completed successfully."
                    },
                    "metadata": {}
                },
                {
                    "output_type": "display_data",
                    "data": {
                        "text/html": "Total execution time: 00:00:00.081"
                    },
                    "metadata": {}
                }
            ],
            "execution_count": 40
        },
        {
            "cell_type": "markdown",
            "source": [
                "## Great, now lets create a table that logs the activity that coincides with the backup events."
            ],
            "metadata": {
                "azdata_cell_guid": "a13f7330-1cc0-4b93-8c51-9ea966b75986"
            }
        },
        {
            "cell_type": "code",
            "source": [
                "CREATE TABLE [DiffRestoreWithStandbyTest].dbo.TranRecord \r\n",
                "    (\r\n",
                "        [id] INT IDENTITY, \r\n",
                "        [Description] VARCHAR(100), \r\n",
                "        [TransactionTimeStamp] DATETIME DEFAULT GETDATE()\r\n",
                "        )"
            ],
            "metadata": {
                "azdata_cell_guid": "e7be3908-4588-4ce7-81a4-2c3d7f941d61"
            },
            "outputs": [
                {
                    "output_type": "display_data",
                    "data": {
                        "text/html": "Commands completed successfully."
                    },
                    "metadata": {}
                },
                {
                    "output_type": "display_data",
                    "data": {
                        "text/html": "Total execution time: 00:00:00.027"
                    },
                    "metadata": {}
                }
            ],
            "execution_count": 41
        },
        {
            "cell_type": "markdown",
            "source": [
                "## Now, let's insert some data, then issue our 1st FULL backup..."
            ],
            "metadata": {
                "azdata_cell_guid": "770e184e-caa6-4c1c-b4da-ec699369255e"
            }
        },
        {
            "cell_type": "code",
            "source": [
                "INSERT INTO [DiffRestoreWithStandbyTest].dbo.TranRecord\r\n",
                "  VALUES ('F1 - Full backup', GETDATE())\r\n",
                "GO\r\n",
                "\r\n",
                "BACKUP DATABASE [DiffRestoreWithStandbyTest] \r\n",
                "  TO DISK = 'C:\\TEMP\\F1.BAK'\r\n",
                "  WITH INIT\r\n",
                "GO"
            ],
            "metadata": {
                "azdata_cell_guid": "621c8534-3426-4d2e-acb9-78a378d39475",
                "tags": []
            },
            "outputs": [
                {
                    "output_type": "display_data",
                    "data": {
                        "text/html": "(1 row affected)"
                    },
                    "metadata": {}
                },
                {
                    "output_type": "display_data",
                    "data": {
                        "text/html": "Processed 160 pages for database 'DiffRestoreWithStandbyTest', file 'DiffRestoreWithStandbyTest' on file 1."
                    },
                    "metadata": {}
                },
                {
                    "output_type": "display_data",
                    "data": {
                        "text/html": "Processed 2 pages for database 'DiffRestoreWithStandbyTest', file 'DiffRestoreWithStandbyTest_log' on file 1."
                    },
                    "metadata": {}
                },
                {
                    "output_type": "display_data",
                    "data": {
                        "text/html": "BACKUP DATABASE successfully processed 162 pages in 0.009 seconds (140.028 MB/sec)."
                    },
                    "metadata": {}
                },
                {
                    "output_type": "display_data",
                    "data": {
                        "text/html": "Total execution time: 00:00:00.061"
                    },
                    "metadata": {}
                }
            ],
            "execution_count": 42
        },
        {
            "cell_type": "markdown",
            "source": [
                "## Now, let's insert some _more_ data, then issue our 1st DIFFERENTIAL backup..."
            ],
            "metadata": {
                "azdata_cell_guid": "53b9614d-d7cf-43cf-913d-311b456878b4"
            }
        },
        {
            "cell_type": "markdown",
            "source": [
                ""
            ],
            "metadata": {
                "azdata_cell_guid": "581dda12-c3f6-47bf-bb54-2944cf5e86b6"
            }
        },
        {
            "cell_type": "code",
            "source": [
                "WAITFOR DELAY '00:00:15:00'\r\n",
                "\r\n",
                "INSERT INTO [DiffRestoreWithStandbyTest].dbo.TranRecord\r\n",
                "  VALUES ('D1 - Differential backup', GETDATE())\r\n",
                "GO\r\n",
                "\r\n",
                "BACKUP DATABASE [DiffRestoreWithStandbyTest] \r\n",
                "  TO DISK = 'C:\\TEMP\\D1.BAK' \r\n",
                "  WITH \r\n",
                "    INIT, \r\n",
                "    DIFFERENTIAL\r\n",
                "GO"
            ],
            "metadata": {
                "azdata_cell_guid": "d2235e98-ddab-43ea-b9cc-9a3389e094b2"
            },
            "outputs": [
                {
                    "output_type": "display_data",
                    "data": {
                        "text/html": "(1 row affected)"
                    },
                    "metadata": {}
                },
                {
                    "output_type": "display_data",
                    "data": {
                        "text/html": "Processed 64 pages for database 'DiffRestoreWithStandbyTest', file 'DiffRestoreWithStandbyTest' on file 1."
                    },
                    "metadata": {}
                },
                {
                    "output_type": "display_data",
                    "data": {
                        "text/html": "Processed 1 pages for database 'DiffRestoreWithStandbyTest', file 'DiffRestoreWithStandbyTest_log' on file 1."
                    },
                    "metadata": {}
                },
                {
                    "output_type": "display_data",
                    "data": {
                        "text/html": "BACKUP DATABASE WITH DIFFERENTIAL successfully processed 65 pages in 0.007 seconds (71.707 MB/sec)."
                    },
                    "metadata": {}
                },
                {
                    "output_type": "display_data",
                    "data": {
                        "text/html": "Total execution time: 00:00:15.064"
                    },
                    "metadata": {}
                }
            ],
            "execution_count": 43
        },
        {
            "cell_type": "markdown",
            "source": [
                "## Now, let's insert _yet_ _more_ data, then issue our 2nd DIFFERENTIAL backup..."
            ],
            "metadata": {
                "azdata_cell_guid": "2ac3568f-2f4d-4cf7-89dc-71fa1b8cf046"
            }
        },
        {
            "cell_type": "code",
            "source": [
                "WAITFOR DELAY '00:00:15:00'\r\n",
                "\r\n",
                "INSERT INTO [DiffRestoreWithStandbyTest].dbo.TranRecord\r\n",
                "  VALUES ('D2 - Differential backup', GETDATE())\r\n",
                "GO\r\n",
                "\r\n",
                "BACKUP DATABASE [DiffRestoreWithStandbyTest] \r\n",
                "  TO DISK = 'C:\\TEMP\\D2.BAK' \r\n",
                "    WITH\r\n",
                "      INIT,  \r\n",
                "      DIFFERENTIAL\r\n",
                "GO"
            ],
            "metadata": {
                "azdata_cell_guid": "f1c4629b-0b6e-49e9-aafe-3a26e1568c62"
            },
            "outputs": [
                {
                    "output_type": "display_data",
                    "data": {
                        "text/html": "(1 row affected)"
                    },
                    "metadata": {}
                },
                {
                    "output_type": "display_data",
                    "data": {
                        "text/html": "Processed 64 pages for database 'DiffRestoreWithStandbyTest', file 'DiffRestoreWithStandbyTest' on file 1."
                    },
                    "metadata": {}
                },
                {
                    "output_type": "display_data",
                    "data": {
                        "text/html": "Processed 1 pages for database 'DiffRestoreWithStandbyTest', file 'DiffRestoreWithStandbyTest_log' on file 1."
                    },
                    "metadata": {}
                },
                {
                    "output_type": "display_data",
                    "data": {
                        "text/html": "BACKUP DATABASE WITH DIFFERENTIAL successfully processed 65 pages in 0.008 seconds (62.744 MB/sec)."
                    },
                    "metadata": {}
                },
                {
                    "output_type": "display_data",
                    "data": {
                        "text/html": "Total execution time: 00:00:15.068"
                    },
                    "metadata": {}
                }
            ],
            "execution_count": 44
        },
        {
            "cell_type": "markdown",
            "source": [
                "## The final stretch in setting things up...\n",
                "\n",
                "## let's insert the last of our data, and issue the 3rd and last DIFFERENTIAL backup..."
            ],
            "metadata": {
                "azdata_cell_guid": "f65ac3da-a993-46f1-9dd2-7bc2c6cae5da"
            }
        },
        {
            "cell_type": "code",
            "source": [
                "WAITFOR DELAY '00:00:15:00'\r\n",
                "\r\n",
                "INSERT INTO [DiffRestoreWithStandbyTest].dbo.TranRecord\r\n",
                "  VALUES ('D3 - Differential backup', GETDATE())\r\n",
                "GO\r\n",
                "\r\n",
                "BACKUP DATABASE [DiffRestoreWithStandbyTest] \r\n",
                "  TO DISK = 'C:\\TEMP\\D3.BAK' \r\n",
                "    WITH \r\n",
                "      INIT,\r\n",
                "      DIFFERENTIAL\r\n",
                "GO"
            ],
            "metadata": {
                "azdata_cell_guid": "84fe7796-d6cc-48a0-984c-9781624de2e2"
            },
            "outputs": [
                {
                    "output_type": "display_data",
                    "data": {
                        "text/html": "(1 row affected)"
                    },
                    "metadata": {}
                },
                {
                    "output_type": "display_data",
                    "data": {
                        "text/html": "Processed 64 pages for database 'DiffRestoreWithStandbyTest', file 'DiffRestoreWithStandbyTest' on file 1."
                    },
                    "metadata": {}
                },
                {
                    "output_type": "display_data",
                    "data": {
                        "text/html": "Processed 1 pages for database 'DiffRestoreWithStandbyTest', file 'DiffRestoreWithStandbyTest_log' on file 1."
                    },
                    "metadata": {}
                },
                {
                    "output_type": "display_data",
                    "data": {
                        "text/html": "BACKUP DATABASE WITH DIFFERENTIAL successfully processed 65 pages in 0.007 seconds (71.707 MB/sec)."
                    },
                    "metadata": {}
                },
                {
                    "output_type": "display_data",
                    "data": {
                        "text/html": "Total execution time: 00:00:15.070"
                    },
                    "metadata": {}
                }
            ],
            "execution_count": 45
        },
        {
            "cell_type": "markdown",
            "source": [
                ""
            ],
            "metadata": {
                "azdata_cell_guid": "81b175ca-7e55-4f59-962c-937fa46400ff"
            }
        },
        {
            "cell_type": "markdown",
            "source": [
                "# **Excellent, now let's test the restore of the full backup WITH STANDBY**"
            ],
            "metadata": {
                "azdata_cell_guid": "6276b18e-886a-42d8-9c1c-a192bc621ffc"
            }
        },
        {
            "cell_type": "code",
            "source": [
                "RESTORE DATABASE [DiffRestoreWithStandbyTest] \r\n",
                "  FROM DISK = N'C:\\Temp\\F1.BAK' \r\n",
                "  WITH \r\n",
                "    REPLACE, \r\n",
                "    STANDBY = N'C:\\Temp\\DiffRestoreWithStandbyTest_RollbackUndoFile.tuf', \r\n",
                "    STATS = 25;\r\n",
                "GO"
            ],
            "metadata": {
                "azdata_cell_guid": "87da26ea-2b83-481a-9cdd-57c52bdb452d"
            },
            "outputs": [
                {
                    "output_type": "display_data",
                    "data": {
                        "text/html": "29 percent processed."
                    },
                    "metadata": {}
                },
                {
                    "output_type": "display_data",
                    "data": {
                        "text/html": "54 percent processed."
                    },
                    "metadata": {}
                },
                {
                    "output_type": "display_data",
                    "data": {
                        "text/html": "79 percent processed."
                    },
                    "metadata": {}
                },
                {
                    "output_type": "display_data",
                    "data": {
                        "text/html": "100 percent processed."
                    },
                    "metadata": {}
                },
                {
                    "output_type": "display_data",
                    "data": {
                        "text/html": "Processed 160 pages for database 'DiffRestoreWithStandbyTest', file 'DiffRestoreWithStandbyTest' on file 1."
                    },
                    "metadata": {}
                },
                {
                    "output_type": "display_data",
                    "data": {
                        "text/html": "Processed 2 pages for database 'DiffRestoreWithStandbyTest', file 'DiffRestoreWithStandbyTest_log' on file 1."
                    },
                    "metadata": {}
                },
                {
                    "output_type": "display_data",
                    "data": {
                        "text/html": "RESTORE DATABASE successfully processed 162 pages in 0.014 seconds (90.018 MB/sec)."
                    },
                    "metadata": {}
                },
                {
                    "output_type": "display_data",
                    "data": {
                        "text/html": "Total execution time: 00:00:00.167"
                    },
                    "metadata": {}
                }
            ],
            "execution_count": 46
        },
        {
            "cell_type": "markdown",
            "source": [
                "## Okay, so let's see if we have read only access to the database!"
            ],
            "metadata": {
                "azdata_cell_guid": "5a911d17-13bc-4cb2-897e-bbf54e381e3f"
            }
        },
        {
            "cell_type": "code",
            "source": [
                "SELECT * FROM [DiffRestoreWithStandbyTest].dbo.TranRecord\r\n",
                "GO"
            ],
            "metadata": {
                "azdata_cell_guid": "8a6598cf-989c-4a94-b8ee-1038a32dabf9"
            },
            "outputs": [
                {
                    "output_type": "display_data",
                    "data": {
                        "text/html": "(1 row affected)"
                    },
                    "metadata": {}
                },
                {
                    "output_type": "display_data",
                    "data": {
                        "text/html": "Total execution time: 00:00:00.027"
                    },
                    "metadata": {}
                },
                {
                    "output_type": "execute_result",
                    "execution_count": 47,
                    "data": {
                        "application/vnd.dataresource+json": {
                            "schema": {
                                "fields": [
                                    {
                                        "name": "id"
                                    },
                                    {
                                        "name": "Description"
                                    },
                                    {
                                        "name": "TransactionTimeStamp"
                                    }
                                ]
                            },
                            "data": [
                                {
                                    "0": "1",
                                    "1": "F1 - Full backup",
                                    "2": "2021-07-16 11:59:22.233"
                                }
                            ]
                        },
                        "text/html": "<table><tr><th>id</th><th>Description</th><th>TransactionTimeStamp</th></tr><tr><td>1</td><td>F1 - Full backup</td><td>2021-07-16 11:59:22.233</td></tr></table>"
                    },
                    "metadata": {}
                }
            ],
            "execution_count": 47
        },
        {
            "cell_type": "markdown",
            "source": [
                "## Success - we can read from the database! \n",
                "\n",
                "## ... But lets see if we can restore our first differential and still have read-only access to the database"
            ],
            "metadata": {
                "azdata_cell_guid": "c051a2db-0b90-493c-b53b-4466a733a6ee"
            }
        },
        {
            "cell_type": "code",
            "source": [
                "RESTORE DATABASE [DiffRestoreWithStandbyTest] \r\n",
                "  FROM DISK = N'C:\\Temp\\D1.BAK' \r\n",
                "  WITH \r\n",
                "    STANDBY = N'C:\\Temp\\DiffRestoreWithStandbyTest_RollbackUndoFile.tuf', \r\n",
                "    STATS = 25\r\n",
                "GO"
            ],
            "metadata": {
                "azdata_cell_guid": "e178ba75-f862-4afd-b7f5-536d1bb5fa1e",
                "tags": []
            },
            "outputs": [
                {
                    "output_type": "display_data",
                    "data": {
                        "text/html": "37 percent processed."
                    },
                    "metadata": {}
                },
                {
                    "output_type": "display_data",
                    "data": {
                        "text/html": "62 percent processed."
                    },
                    "metadata": {}
                },
                {
                    "output_type": "display_data",
                    "data": {
                        "text/html": "87 percent processed."
                    },
                    "metadata": {}
                },
                {
                    "output_type": "display_data",
                    "data": {
                        "text/html": "100 percent processed."
                    },
                    "metadata": {}
                },
                {
                    "output_type": "display_data",
                    "data": {
                        "text/html": "Processed 64 pages for database 'DiffRestoreWithStandbyTest', file 'DiffRestoreWithStandbyTest' on file 1."
                    },
                    "metadata": {}
                },
                {
                    "output_type": "display_data",
                    "data": {
                        "text/html": "Processed 1 pages for database 'DiffRestoreWithStandbyTest', file 'DiffRestoreWithStandbyTest_log' on file 1."
                    },
                    "metadata": {}
                },
                {
                    "output_type": "display_data",
                    "data": {
                        "text/html": "RESTORE DATABASE successfully processed 65 pages in 0.009 seconds (55.772 MB/sec)."
                    },
                    "metadata": {}
                },
                {
                    "output_type": "display_data",
                    "data": {
                        "text/html": "Total execution time: 00:00:00.173"
                    },
                    "metadata": {}
                }
            ],
            "execution_count": 48
        },
        {
            "cell_type": "markdown",
            "source": [
                "## Restored!  Now testing for read-only access..."
            ],
            "metadata": {
                "azdata_cell_guid": "ea07f1cf-c7aa-4396-9fe1-a911563370fc"
            }
        },
        {
            "cell_type": "code",
            "source": [
                "SELECT * FROM [DiffRestoreWithStandbyTest].dbo.TranRecord\r\n",
                "GO"
            ],
            "metadata": {
                "azdata_cell_guid": "8332f729-1704-4f2e-8b01-aa39756a0c66",
                "tags": [
                    "hide_input"
                ]
            },
            "outputs": [
                {
                    "output_type": "display_data",
                    "data": {
                        "text/html": "(2 rows affected)"
                    },
                    "metadata": {}
                },
                {
                    "output_type": "display_data",
                    "data": {
                        "text/html": "Total execution time: 00:00:00.028"
                    },
                    "metadata": {}
                },
                {
                    "output_type": "execute_result",
                    "execution_count": 49,
                    "data": {
                        "application/vnd.dataresource+json": {
                            "schema": {
                                "fields": [
                                    {
                                        "name": "id"
                                    },
                                    {
                                        "name": "Description"
                                    },
                                    {
                                        "name": "TransactionTimeStamp"
                                    }
                                ]
                            },
                            "data": [
                                {
                                    "0": "1",
                                    "1": "F1 - Full backup",
                                    "2": "2021-07-16 11:59:22.233"
                                },
                                {
                                    "0": "2",
                                    "1": "D1 - Differential backup",
                                    "2": "2021-07-16 11:59:42.260"
                                }
                            ]
                        },
                        "text/html": "<table><tr><th>id</th><th>Description</th><th>TransactionTimeStamp</th></tr><tr><td>1</td><td>F1 - Full backup</td><td>2021-07-16 11:59:22.233</td></tr><tr><td>2</td><td>D1 - Differential backup</td><td>2021-07-16 11:59:42.260</td></tr></table>"
                    },
                    "metadata": {}
                }
            ],
            "execution_count": 49
        },
        {
            "cell_type": "markdown",
            "source": [
                "## Success!  Now to ensure that it is repeatable let's restore the 2nd differential backup, test..."
            ],
            "metadata": {
                "azdata_cell_guid": "f4bcd3e7-811c-4b9a-9289-85f916dd16c5"
            }
        },
        {
            "cell_type": "code",
            "source": [
                "RESTORE DATABASE [DiffRestoreWithStandbyTest] \r\n",
                "  FROM DISK = N'C:\\Temp\\D2.BAK' \r\n",
                "  WITH \r\n",
                "    STANDBY = N'C:\\Temp\\DiffRestoreWithStandbyTest_RollbackUndoFile.tuf', \r\n",
                "    STATS = 25\r\n",
                "GO"
            ],
            "metadata": {
                "azdata_cell_guid": "6cdb2b3b-c87a-430f-b24f-41b1f8327f65",
                "tags": []
            },
            "outputs": [
                {
                    "output_type": "display_data",
                    "data": {
                        "text/html": "37 percent processed."
                    },
                    "metadata": {}
                },
                {
                    "output_type": "display_data",
                    "data": {
                        "text/html": "62 percent processed."
                    },
                    "metadata": {}
                },
                {
                    "output_type": "display_data",
                    "data": {
                        "text/html": "87 percent processed."
                    },
                    "metadata": {}
                },
                {
                    "output_type": "display_data",
                    "data": {
                        "text/html": "100 percent processed."
                    },
                    "metadata": {}
                },
                {
                    "output_type": "display_data",
                    "data": {
                        "text/html": "Processed 64 pages for database 'DiffRestoreWithStandbyTest', file 'DiffRestoreWithStandbyTest' on file 1."
                    },
                    "metadata": {}
                },
                {
                    "output_type": "display_data",
                    "data": {
                        "text/html": "Processed 1 pages for database 'DiffRestoreWithStandbyTest', file 'DiffRestoreWithStandbyTest_log' on file 1."
                    },
                    "metadata": {}
                },
                {
                    "output_type": "display_data",
                    "data": {
                        "text/html": "RESTORE DATABASE successfully processed 65 pages in 0.011 seconds (45.632 MB/sec)."
                    },
                    "metadata": {}
                },
                {
                    "output_type": "display_data",
                    "data": {
                        "text/html": "Total execution time: 00:00:00.163"
                    },
                    "metadata": {}
                }
            ],
            "execution_count": 50
        },
        {
            "cell_type": "code",
            "source": [
                "SELECT * FROM [DiffRestoreWithStandbyTest].dbo.TranRecord\r\n",
                "GO"
            ],
            "metadata": {
                "azdata_cell_guid": "0abb2da6-3e0e-4c95-9415-7a0b9ac22c9d"
            },
            "outputs": [
                {
                    "output_type": "display_data",
                    "data": {
                        "text/html": "(3 rows affected)"
                    },
                    "metadata": {}
                },
                {
                    "output_type": "display_data",
                    "data": {
                        "text/html": "Total execution time: 00:00:00.028"
                    },
                    "metadata": {}
                },
                {
                    "output_type": "execute_result",
                    "execution_count": 51,
                    "data": {
                        "application/vnd.dataresource+json": {
                            "schema": {
                                "fields": [
                                    {
                                        "name": "id"
                                    },
                                    {
                                        "name": "Description"
                                    },
                                    {
                                        "name": "TransactionTimeStamp"
                                    }
                                ]
                            },
                            "data": [
                                {
                                    "0": "1",
                                    "1": "F1 - Full backup",
                                    "2": "2021-07-16 11:59:22.233"
                                },
                                {
                                    "0": "2",
                                    "1": "D1 - Differential backup",
                                    "2": "2021-07-16 11:59:42.260"
                                },
                                {
                                    "0": "3",
                                    "1": "D2 - Differential backup",
                                    "2": "2021-07-16 12:00:03.103"
                                }
                            ]
                        },
                        "text/html": "<table><tr><th>id</th><th>Description</th><th>TransactionTimeStamp</th></tr><tr><td>1</td><td>F1 - Full backup</td><td>2021-07-16 11:59:22.233</td></tr><tr><td>2</td><td>D1 - Differential backup</td><td>2021-07-16 11:59:42.260</td></tr><tr><td>3</td><td>D2 - Differential backup</td><td>2021-07-16 12:00:03.103</td></tr></table>"
                    },
                    "metadata": {}
                }
            ],
            "execution_count": 51
        },
        {
            "cell_type": "markdown",
            "source": [
                "## And the final stretch!"
            ],
            "metadata": {
                "azdata_cell_guid": "4bf74221-61d0-4044-b8e2-008b7b831942"
            }
        },
        {
            "cell_type": "code",
            "source": [
                "RESTORE DATABASE [DiffRestoreWithStandbyTest] \r\n",
                "  FROM DISK = N'C:\\Temp\\D3.BAK' \r\n",
                "  WITH \r\n",
                "    STANDBY = N'C:\\Temp\\DiffRestoreWithStandbyTest_RollbackUndoFile.tuf', \r\n",
                "    STATS = 25\r\n",
                "GO"
            ],
            "metadata": {
                "azdata_cell_guid": "bda01b73-fc39-4aad-a396-83c22dac1151"
            },
            "outputs": [
                {
                    "output_type": "display_data",
                    "data": {
                        "text/html": "37 percent processed."
                    },
                    "metadata": {}
                },
                {
                    "output_type": "display_data",
                    "data": {
                        "text/html": "62 percent processed."
                    },
                    "metadata": {}
                },
                {
                    "output_type": "display_data",
                    "data": {
                        "text/html": "87 percent processed."
                    },
                    "metadata": {}
                },
                {
                    "output_type": "display_data",
                    "data": {
                        "text/html": "100 percent processed."
                    },
                    "metadata": {}
                },
                {
                    "output_type": "display_data",
                    "data": {
                        "text/html": "Processed 64 pages for database 'DiffRestoreWithStandbyTest', file 'DiffRestoreWithStandbyTest' on file 1."
                    },
                    "metadata": {}
                },
                {
                    "output_type": "display_data",
                    "data": {
                        "text/html": "Processed 1 pages for database 'DiffRestoreWithStandbyTest', file 'DiffRestoreWithStandbyTest_log' on file 1."
                    },
                    "metadata": {}
                },
                {
                    "output_type": "display_data",
                    "data": {
                        "text/html": "RESTORE DATABASE successfully processed 65 pages in 0.009 seconds (55.772 MB/sec)."
                    },
                    "metadata": {}
                },
                {
                    "output_type": "display_data",
                    "data": {
                        "text/html": "Total execution time: 00:00:00.157"
                    },
                    "metadata": {}
                }
            ],
            "execution_count": 52
        },
        {
            "cell_type": "code",
            "source": [
                "SELECT * FROM [DiffRestoreWithStandbyTest].dbo.TranRecord\r\n",
                "GO"
            ],
            "metadata": {
                "azdata_cell_guid": "f021d89d-0c82-4a3d-a505-e412eb5b20df"
            },
            "outputs": [
                {
                    "output_type": "display_data",
                    "data": {
                        "text/html": "(4 rows affected)"
                    },
                    "metadata": {}
                },
                {
                    "output_type": "display_data",
                    "data": {
                        "text/html": "Total execution time: 00:00:00.027"
                    },
                    "metadata": {}
                },
                {
                    "output_type": "execute_result",
                    "execution_count": 53,
                    "data": {
                        "application/vnd.dataresource+json": {
                            "schema": {
                                "fields": [
                                    {
                                        "name": "id"
                                    },
                                    {
                                        "name": "Description"
                                    },
                                    {
                                        "name": "TransactionTimeStamp"
                                    }
                                ]
                            },
                            "data": [
                                {
                                    "0": "1",
                                    "1": "F1 - Full backup",
                                    "2": "2021-07-16 11:59:22.233"
                                },
                                {
                                    "0": "2",
                                    "1": "D1 - Differential backup",
                                    "2": "2021-07-16 11:59:42.260"
                                },
                                {
                                    "0": "3",
                                    "1": "D2 - Differential backup",
                                    "2": "2021-07-16 12:00:03.103"
                                },
                                {
                                    "0": "4",
                                    "1": "D3 - Differential backup",
                                    "2": "2021-07-16 12:00:20.363"
                                }
                            ]
                        },
                        "text/html": "<table><tr><th>id</th><th>Description</th><th>TransactionTimeStamp</th></tr><tr><td>1</td><td>F1 - Full backup</td><td>2021-07-16 11:59:22.233</td></tr><tr><td>2</td><td>D1 - Differential backup</td><td>2021-07-16 11:59:42.260</td></tr><tr><td>3</td><td>D2 - Differential backup</td><td>2021-07-16 12:00:03.103</td></tr><tr><td>4</td><td>D3 - Differential backup</td><td>2021-07-16 12:00:20.363</td></tr></table>"
                    },
                    "metadata": {}
                }
            ],
            "execution_count": 53
        },
        {
            "cell_type": "markdown",
            "source": [
                "So, looks like we can restore **with standby** to both database in a restoring mode, accepting of future differential (and transaction log) backups, while leaving the database in read-only mode thus allowing users continued access to the database!"
            ],
            "metadata": {
                "azdata_cell_guid": "650f78fb-f768-4d39-948c-cd16aea6a3e5"
            }
        }
    ]
}